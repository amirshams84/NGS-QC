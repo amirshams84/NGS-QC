{
 "cells": [
  {
   "cell_type": "markdown",
   "metadata": {},
   "source": [
    "## NGS-QC(Eric-QC) execution tutorial"
   ]
  },
  {
   "cell_type": "markdown",
   "metadata": {},
   "source": [
    "##### Requirement\n",
    "1. NGS-QC.py\n",
    "2. NGS-QC_metadata.csv\n",
    "3. Active NIH-HPC (biowulf) account"
   ]
  },
  {
   "cell_type": "markdown",
   "metadata": {},
   "source": [
    "#### Concept and method of implementation\n",
    "##### I used SWARM system to run several QC metrics, such as fastQC and Kraken based on Eric QC recipe, over each fastq file within a single directory in parallel mode. Python script will parse the input directory and create a hash table based on the metadata CSV file's parameters; Then it will generate a swarm file based on that. This python script will also create a shell script separately for the multiQC step. Since multiQC should execute at the last step, the shell script used --dependency method in SBATCH system- binds the execution of multiQC script to the swarm script completion. All these functions are managed by a general bash script, which will control this structure. This bash script will be the third output of the python script.\n",
    "##### So, to be specific the python script will generate the following output based on metadata file:\n",
    "1. QC swarm file\n",
    "2. multiQC script\n",
    "3. execution bash script\n"
   ]
  },
  {
   "cell_type": "markdown",
   "metadata": {},
   "source": [
    "##### here is the instruction to execute NGS-QC script"
   ]
  },
  {
   "cell_type": "markdown",
   "metadata": {},
   "source": [
    "#### Step0: make a directory for experiment\n",
    "* to be tidy, please create a directory for experiment in your space\n",
    "\n",
    "    ``` mkdir /data/shamsaddinisha/Test_Space/NGS-QC_test ```\n",
    "\n",
    "    ``` cd /data/shamsaddinisha/Test_Space/NGS-QC_test ```"
   ]
  },
  {
   "cell_type": "markdown",
   "metadata": {},
   "source": [
    "#### Step1: copy metadata file\n",
    "* make a copy of the available metadata template from GTS space into your space\n",
    "\n",
    "    ```cp /data/RTB/datashare/Amir/Pipelines/NGS-QC/template/NGS-QC_metadata.csv . ```"
   ]
  },
  {
   "cell_type": "markdown",
   "metadata": {},
   "source": [
    "#### Step2: update metadata file\n",
    "* open provided metadata file with Microsoft Excel, and edit the following fields\n",
    "\n",
    "1. **title**: give your project a title; this title would be the top directory that locates all generated outputs.\n",
    "2. **single_end**: This is a boolean value which specifies your fastq files layout to be “paired-end” or “single-end”; 1=single-end, 0=paired-end\n",
    "3. **input**: input is the directory path which all your fastq files are located there; the script only scans the first level depth of the given path, so subdirectories will not be included.\n",
    "4. **output**:Output is the path which will be used as workspace and result path. \n",
    "    * current path or the path which you copy your metadata file into is a good example.\n",
    "\n",
    "* save your metadata CSV file path after editing!"
   ]
  },
  {
   "cell_type": "markdown",
   "metadata": {},
   "source": [
    "#### Step3: load python 3\n",
    "* you need python3 to run this script; please load python3 with the following command:\n",
    "\n",
    "    ``` module load python ```"
   ]
  },
  {
   "cell_type": "markdown",
   "metadata": {},
   "source": [
    "#### Step4: run python script with updated metadata file\n",
    "* the python script is located on GTS-RTB\n",
    "* The location of your metadata file will be used to generate the required script.\n",
    "\n",
    "    ``` python /data/RTB/datashare/Amir/Pipelines/NGS-QC/python_script/NGS-QC.py ./NGS-QC_metadata_updated.csv ```"
   ]
  },
  {
   "cell_type": "markdown",
   "metadata": {},
   "source": [
    "#### Step5: verify generated scripts\n",
    "1. **NGS-QC_metadata_NGS_test_script.swarm**: swarm script of the QC steps\n",
    "2. **NGS-QC_metadata_NGS_test_multiqc.sh**: this is the script for multiQC script\n",
    "3. **NGS-QC_metadata_NGS_test_execution.sh**: this is the main execution script which you need to run"
   ]
  },
  {
   "cell_type": "markdown",
   "metadata": {},
   "source": [
    "#### Step6: submit execution script to NIH-HPC\n",
    "* submit the execution script to Biowulf with the following command:\n",
    "\n",
    "    ```bash NGS-QC_metadata_NGS_test_execution.sh```"
   ]
  },
  {
   "cell_type": "markdown",
   "metadata": {},
   "source": [
    "#### Step7: check the result\n",
    "##### when the execution is completed, you can open the generated multiQC HTML file with your browser and check the result. \n",
    "##### It is located on your specified output:\n",
    "``` /data/shamsaddinisha/Test_Space/NGS-QC_test/NGS_test/NGS_test_multiqc_report.html ```"
   ]
  },
  {
   "cell_type": "code",
   "execution_count": null,
   "metadata": {},
   "outputs": [],
   "source": []
  }
 ],
 "metadata": {
  "kernelspec": {
   "display_name": "Python 3",
   "language": "python",
   "name": "python3"
  },
  "language_info": {
   "codemirror_mode": {
    "name": "ipython",
    "version": 3
   },
   "file_extension": ".py",
   "mimetype": "text/x-python",
   "name": "python",
   "nbconvert_exporter": "python",
   "pygments_lexer": "ipython3",
   "version": "3.8.3"
  }
 },
 "nbformat": 4,
 "nbformat_minor": 4
}
